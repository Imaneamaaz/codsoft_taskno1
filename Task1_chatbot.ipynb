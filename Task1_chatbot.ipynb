{
  "nbformat": 4,
  "nbformat_minor": 0,
  "metadata": {
    "colab": {
      "provenance": [],
      "gpuType": "T4"
    },
    "kernelspec": {
      "name": "python3",
      "display_name": "Python 3"
    },
    "language_info": {
      "name": "python"
    },
    "accelerator": "GPU"
  },
  "cells": [
    {
      "cell_type": "markdown",
      "source": [
        "# Part1"
      ],
      "metadata": {
        "id": "u-hsvGRYOXG5"
      }
    },
    {
      "cell_type": "code",
      "execution_count": 2,
      "metadata": {
        "colab": {
          "base_uri": "https://localhost:8080/"
        },
        "id": "l41_3gi52R9m",
        "outputId": "fb4a9c66-be5c-441d-e25d-86abb658fb86"
      },
      "outputs": [
        {
          "output_type": "stream",
          "name": "stdout",
          "text": [
            "Requirement already satisfied: nltk in /usr/local/lib/python3.10/dist-packages (3.8.1)\n",
            "Requirement already satisfied: click in /usr/local/lib/python3.10/dist-packages (from nltk) (8.1.7)\n",
            "Requirement already satisfied: joblib in /usr/local/lib/python3.10/dist-packages (from nltk) (1.4.2)\n",
            "Requirement already satisfied: regex>=2021.8.3 in /usr/local/lib/python3.10/dist-packages (from nltk) (2024.5.15)\n",
            "Requirement already satisfied: tqdm in /usr/local/lib/python3.10/dist-packages (from nltk) (4.66.4)\n"
          ]
        }
      ],
      "source": [
        "pip install nltk"
      ]
    },
    {
      "cell_type": "code",
      "source": [
        "!pip install torch torchvision torchaudio"
      ],
      "metadata": {
        "colab": {
          "base_uri": "https://localhost:8080/"
        },
        "id": "gF5-lrg93SCB",
        "outputId": "a7162773-4f38-46b8-8b6c-eea1138698bc"
      },
      "execution_count": 4,
      "outputs": [
        {
          "output_type": "stream",
          "name": "stdout",
          "text": [
            "Requirement already satisfied: torch in /usr/local/lib/python3.10/dist-packages (2.3.1+cu121)\n",
            "Requirement already satisfied: torchvision in /usr/local/lib/python3.10/dist-packages (0.18.1+cu121)\n",
            "Requirement already satisfied: torchaudio in /usr/local/lib/python3.10/dist-packages (2.3.1+cu121)\n",
            "Requirement already satisfied: filelock in /usr/local/lib/python3.10/dist-packages (from torch) (3.15.4)\n",
            "Requirement already satisfied: typing-extensions>=4.8.0 in /usr/local/lib/python3.10/dist-packages (from torch) (4.12.2)\n",
            "Requirement already satisfied: sympy in /usr/local/lib/python3.10/dist-packages (from torch) (1.13.1)\n",
            "Requirement already satisfied: networkx in /usr/local/lib/python3.10/dist-packages (from torch) (3.3)\n",
            "Requirement already satisfied: jinja2 in /usr/local/lib/python3.10/dist-packages (from torch) (3.1.4)\n",
            "Requirement already satisfied: fsspec in /usr/local/lib/python3.10/dist-packages (from torch) (2024.6.1)\n",
            "Requirement already satisfied: nvidia-cuda-nvrtc-cu12==12.1.105 in /usr/local/lib/python3.10/dist-packages (from torch) (12.1.105)\n",
            "Requirement already satisfied: nvidia-cuda-runtime-cu12==12.1.105 in /usr/local/lib/python3.10/dist-packages (from torch) (12.1.105)\n",
            "Requirement already satisfied: nvidia-cuda-cupti-cu12==12.1.105 in /usr/local/lib/python3.10/dist-packages (from torch) (12.1.105)\n",
            "Requirement already satisfied: nvidia-cudnn-cu12==8.9.2.26 in /usr/local/lib/python3.10/dist-packages (from torch) (8.9.2.26)\n",
            "Requirement already satisfied: nvidia-cublas-cu12==12.1.3.1 in /usr/local/lib/python3.10/dist-packages (from torch) (12.1.3.1)\n",
            "Requirement already satisfied: nvidia-cufft-cu12==11.0.2.54 in /usr/local/lib/python3.10/dist-packages (from torch) (11.0.2.54)\n",
            "Requirement already satisfied: nvidia-curand-cu12==10.3.2.106 in /usr/local/lib/python3.10/dist-packages (from torch) (10.3.2.106)\n",
            "Requirement already satisfied: nvidia-cusolver-cu12==11.4.5.107 in /usr/local/lib/python3.10/dist-packages (from torch) (11.4.5.107)\n",
            "Requirement already satisfied: nvidia-cusparse-cu12==12.1.0.106 in /usr/local/lib/python3.10/dist-packages (from torch) (12.1.0.106)\n",
            "Requirement already satisfied: nvidia-nccl-cu12==2.20.5 in /usr/local/lib/python3.10/dist-packages (from torch) (2.20.5)\n",
            "Requirement already satisfied: nvidia-nvtx-cu12==12.1.105 in /usr/local/lib/python3.10/dist-packages (from torch) (12.1.105)\n",
            "Requirement already satisfied: triton==2.3.1 in /usr/local/lib/python3.10/dist-packages (from torch) (2.3.1)\n",
            "Requirement already satisfied: nvidia-nvjitlink-cu12 in /usr/local/lib/python3.10/dist-packages (from nvidia-cusolver-cu12==11.4.5.107->torch) (12.6.20)\n",
            "Requirement already satisfied: numpy in /usr/local/lib/python3.10/dist-packages (from torchvision) (1.26.4)\n",
            "Requirement already satisfied: pillow!=8.3.*,>=5.3.0 in /usr/local/lib/python3.10/dist-packages (from torchvision) (9.4.0)\n",
            "Requirement already satisfied: MarkupSafe>=2.0 in /usr/local/lib/python3.10/dist-packages (from jinja2->torch) (2.1.5)\n",
            "Requirement already satisfied: mpmath<1.4,>=1.1.0 in /usr/local/lib/python3.10/dist-packages (from sympy->torch) (1.3.0)\n"
          ]
        }
      ]
    },
    {
      "cell_type": "code",
      "source": [
        "import nltk\n"
      ],
      "metadata": {
        "id": "lJ_SfjWh2ZRO"
      },
      "execution_count": 5,
      "outputs": []
    },
    {
      "cell_type": "code",
      "source": [
        "import torch\n",
        "print(torch.__version__)"
      ],
      "metadata": {
        "colab": {
          "base_uri": "https://localhost:8080/"
        },
        "id": "HuSr24HS3wpT",
        "outputId": "e2264273-9a9b-40ca-804f-3aa034654008"
      },
      "execution_count": 6,
      "outputs": [
        {
          "output_type": "stream",
          "name": "stdout",
          "text": [
            "2.3.1+cu121\n"
          ]
        }
      ]
    },
    {
      "cell_type": "code",
      "source": [
        "print(torch.cuda.is_available())"
      ],
      "metadata": {
        "id": "gUOaVLNT23xK",
        "colab": {
          "base_uri": "https://localhost:8080/"
        },
        "outputId": "de3d1298-281b-44f3-89b3-29e248f8ab71"
      },
      "execution_count": 7,
      "outputs": [
        {
          "output_type": "stream",
          "name": "stdout",
          "text": [
            "False\n"
          ]
        }
      ]
    },
    {
      "cell_type": "code",
      "source": [
        "import nltk\n",
        "from nltk.stem.porter import PorterStemmer\n",
        "stemmer = PorterStemmer()\n",
        "\n"
      ],
      "metadata": {
        "id": "igUwHT9l4B2b"
      },
      "execution_count": 8,
      "outputs": []
    },
    {
      "cell_type": "code",
      "source": [
        "import numpy as np\n",
        "nltk.download('punkt')"
      ],
      "metadata": {
        "colab": {
          "base_uri": "https://localhost:8080/"
        },
        "id": "NfXBkniT5f8X",
        "outputId": "a6ea223d-d21f-4050-ddf6-c886a83f6f17"
      },
      "execution_count": 9,
      "outputs": [
        {
          "output_type": "stream",
          "name": "stderr",
          "text": [
            "[nltk_data] Downloading package punkt to /root/nltk_data...\n",
            "[nltk_data]   Unzipping tokenizers/punkt.zip.\n"
          ]
        },
        {
          "output_type": "execute_result",
          "data": {
            "text/plain": [
              "True"
            ]
          },
          "metadata": {},
          "execution_count": 9
        }
      ]
    },
    {
      "cell_type": "code",
      "source": [
        "def tokenize(sentence):\n",
        "    return nltk.word_tokenize(sentence)\n",
        "\n",
        "def stem(word):\n",
        "    return stemmer.stem(word.lower())\n",
        "\n",
        "def bag_of_words(tokenized_sentence, words):\n",
        "    # Stem each word\n",
        "    sentence_words = [stem(word) for word in tokenized_sentence]\n",
        "    # Initialize bag with 0 for each word\n",
        "    bag = np.zeros(len(words), dtype=np.float32)\n",
        "    for idx, w in enumerate(words):\n",
        "        if w in sentence_words:\n",
        "            bag[idx] = 1\n",
        "    return bag\n"
      ],
      "metadata": {
        "id": "adHyVOlZ5-Tt"
      },
      "execution_count": 10,
      "outputs": []
    },
    {
      "cell_type": "markdown",
      "source": [
        "# Part2\n"
      ],
      "metadata": {
        "id": "3bP88xyBOPog"
      }
    },
    {
      "cell_type": "code",
      "source": [
        "import json"
      ],
      "metadata": {
        "id": "j7R478lY6alS"
      },
      "execution_count": 11,
      "outputs": []
    },
    {
      "cell_type": "code",
      "source": [
        "with open('/bin/intents.json','r') as f:\n",
        "  intents = json.load(f)\n",
        "print(intents)"
      ],
      "metadata": {
        "colab": {
          "base_uri": "https://localhost:8080/"
        },
        "id": "WV-VQGtT66UW",
        "outputId": "c5daedb5-216d-43aa-c190-2a71cf1f427b"
      },
      "execution_count": 12,
      "outputs": [
        {
          "output_type": "stream",
          "name": "stdout",
          "text": [
            "{'intents': [{'tag': 'greeting', 'patterns': ['Hello', 'Hi', 'How are you', 'Is anyone there?', 'Good day', 'Hey there'], 'responses': [\"Hello! I'm here to listen. How are you feeling today?\", \"Hi! I'm here to help. What’s on your mind?\", 'Hi there! How can I assist you with your thoughts and feelings today?', 'Hello! Feel free to share what’s bothering you.']}, {'tag': 'goodbye', 'patterns': ['Bye', 'See you later', 'Goodbye', 'Talk to you later'], 'responses': [\"Goodbye! Take care and remember, I'm here if you need to talk.\", \"See you later. Don't hesitate to reach out again if you need support.\", 'Farewell! Wishing you peace and comfort. Come back whenever you need.', 'Talk to you later. Remember, you’re not alone.']}, {'tag': 'thanks', 'patterns': ['Thanks', 'Thank you', 'That’s helpful', 'Thanks a lot!'], 'responses': [\"You're welcome! I'm here to help whenever you need.\", 'Anytime! Feel free to reach out if you need support.', 'My pleasure. Remember, talking can be very helpful.']}, {'tag': 'emotional_support', 'patterns': [\"I'm feeling anxious\", 'I’m depressed', 'I feel overwhelmed', 'I’m having a hard time coping'], 'responses': [\"I'm sorry to hear that you're feeling this way. Can you tell me more about what’s going on?\", 'It’s okay to feel overwhelmed. Let’s talk about what’s bothering you.', \"I'm here to listen. What’s been on your mind lately?\", \"It's important to talk about how you're feeling. How long have you been feeling this way?\"]}, {'tag': 'stress_management', 'patterns': ['How can I manage my stress?', 'I need help with stress', 'What are some techniques to reduce stress?', 'Can you suggest ways to handle stress?'], 'responses': ['Managing stress can be challenging. Try some deep breathing exercises or mindfulness techniques.', 'Consider setting aside time for activities you enjoy and practicing relaxation techniques.', 'Regular exercise and a balanced diet can also help in managing stress. Would you like more tips?', \"It might help to talk about what's causing you stress. Let’s explore some ways to address it.\"]}, {'tag': 'self_care', 'patterns': ['What are some self-care practices?', 'How can I take better care of myself?', 'I need self-care tips', 'What should I do for self-care?'], 'responses': ['Self-care can include activities like exercising, reading, or spending time with loved ones.', 'Make sure to take time for yourself and do things that make you feel good.', 'Regular self-care routines can improve your well-being. What activities do you enjoy?', \"It's important to set aside time for yourself. What are some things that help you relax?\"]}, {'tag': 'seeking_help', 'patterns': ['Should I see a therapist?', 'I think I need professional help', 'Can you help me find a counselor?', 'I’m considering talking to a mental health professional'], 'responses': ['Seeking help from a therapist can be very beneficial. It’s a positive step towards managing your mental health.', 'If you feel like you need professional support, it might be helpful to reach out to a mental health professional.', 'I can’t provide professional therapy, but I can guide you on how to find a qualified counselor.', \"It's great that you're considering professional help. You might want to contact a mental health service in your area.\"]}, {'tag': 'suicidal_thoughts', 'patterns': ['I want to commit suicide', \"I'm thinking about ending my life\", \"I don't want to live anymore\", \"I'm feeling hopeless\"], 'responses': [\"I'm really sorry you're feeling this way, but I'm not equipped to help with this. Please reach out to a mental health professional immediately.\", \"It's important to talk to someone who can provide the support you need. Please contact a crisis hotline or a mental health professional right away.\", \"Your feelings are important, and you don't have to go through this alone. Please seek immediate help from a mental health professional or a trusted person in your life.\", 'There are people who care and want to help you. Please reach out to a crisis support service or a mental health professional.']}, {'tag': 'relationship_issues', 'patterns': [\"I'm having problems in my relationship\", 'My partner and I are arguing a lot', 'I feel distant from my loved ones', 'Can you help me with relationship issues?'], 'responses': ['Relationships can be challenging. It might help to talk about what’s been happening and how it’s affecting you.', 'Consider discussing your feelings with your partner or a trusted person. Communication can often help resolve conflicts.', 'I can offer some tips for improving communication and understanding in relationships, if you’d like.', \"It's important to address relationship issues openly. Seeking couples therapy might also be beneficial.\"]}, {'tag': 'coping_strategies', 'patterns': ['What are some ways to cope with stress?', 'Can you suggest coping strategies for anxiety?', 'How can I manage difficult emotions?', 'What strategies can help me feel better?'], 'responses': ['Coping strategies can include mindfulness, exercise, or talking to a trusted friend or therapist.', 'It might help to identify specific triggers for your stress and develop a plan to address them.', 'Practicing relaxation techniques and finding activities that you enjoy can also be beneficial.', 'Let’s explore some strategies that might work for you. What kinds of activities help you feel better?']}, {'tag': 'daily_motivation', 'patterns': ['I need some motivation', 'Can you give me a motivational quote?', \"I'm feeling unmotivated\", 'Help me stay positive'], 'responses': ['Here’s a motivational quote: ‘The only way to do great work is to love what you do.’ - Steve Jobs', 'Staying positive can be challenging, but setting small, achievable goals can help.', 'Remember, every day is a new opportunity to make progress. What’s one thing you can focus on today?', 'Sometimes, taking one step at a time can help build momentum and improve motivation.']}]}\n"
          ]
        }
      ]
    },
    {
      "cell_type": "code",
      "source": [
        "all_words = []\n",
        "tags = []\n",
        "data_pairs = []\n",
        "for intent in intents['intents']:\n",
        "    tag = intent['tag']\n",
        "    tags.append(tag)\n",
        "    for pattern in intent['patterns']:\n",
        "        # Tokenize each word in the sentence\n",
        "        tokens = tokenize(pattern)\n",
        "        # Add to our words list\n",
        "        all_words.extend(tokens)\n",
        "        # Add to data pairs\n",
        "        data_pairs.append((tokens, tag))\n",
        "\n",
        "# Stem and lower each word\n",
        "ignore_words = ['?', '.', '!']\n",
        "all_words = [stem(w) for w in all_words if w not in ignore_words]\n",
        "# Remove duplicates and sort\n",
        "all_words = sorted(set(all_words))\n",
        "tags = sorted(set(tags))\n",
        "\n",
        "print(len(data_pairs), \"patterns\")\n",
        "print(len(tags), \"tags:\", tags)\n",
        "print(len(all_words), \"unique stemmed words:\", all_words)"
      ],
      "metadata": {
        "id": "gCXBPMMW-2vF",
        "colab": {
          "base_uri": "https://localhost:8080/"
        },
        "outputId": "c5ce384d-287e-4e56-f835-a2635405df24"
      },
      "execution_count": 13,
      "outputs": [
        {
          "output_type": "stream",
          "name": "stdout",
          "text": [
            "46 patterns\n",
            "11 tags: ['coping_strategies', 'daily_motivation', 'emotional_support', 'goodbye', 'greeting', 'relationship_issues', 'seeking_help', 'self_care', 'stress_management', 'suicidal_thoughts', 'thanks']\n",
            "99 unique stemmed words: [\"'m\", 'a', 'about', 'and', 'anxieti', 'anxiou', 'anymor', 'anyon', 'are', 'argu', 'better', 'bye', 'can', 'care', 'commit', 'consid', 'cope', 'counselor', 'day', 'depress', 'difficult', 'distant', 'do', 'emot', 'end', 'feel', 'find', 'for', 'from', 'give', 'good', 'goodby', 'handl', 'hard', 'have', 'health', 'hello', 'help', 'hey', 'hi', 'hopeless', 'how', 'i', 'in', 'is', 'issu', 'later', 'life', 'live', 'lot', 'love', 'm', 'manag', 'me', 'mental', 'motiv', 'my', 'myself', \"n't\", 'need', 'of', 'one', 'overwhelm', 'partner', 'posit', 'practic', 'problem', 'profession', 'quot', 'reduc', 'relationship', 's', 'see', 'self-car', 'should', 'some', 'stay', 'strategi', 'stress', 'suggest', 'suicid', 'take', 'talk', 'techniqu', 'thank', 'that', 'therapist', 'there', 'think', 'time', 'tip', 'to', 'unmotiv', 'want', 'way', 'what', 'with', 'you', '’']\n"
          ]
        }
      ]
    },
    {
      "cell_type": "code",
      "source": [
        "import torch\n",
        "import torch.nn as nn\n",
        "from torch.utils.data import Dataset, DataLoader\n",
        "# Create training data\n",
        "X_train = []\n",
        "y_train = []\n",
        "for (pattern_sentence, tag) in data_pairs:\n",
        "    # X: bag of words for each pattern_sentence\n",
        "    bag = bag_of_words(pattern_sentence, all_words)\n",
        "    X_train.append(bag)\n",
        "    # y: PyTorch CrossEntropyLoss needs only class labels, not one-hot\n",
        "    label = tags.index(tag)\n",
        "    y_train.append(label)\n",
        "X_train = np.array(X_train)\n",
        "y_train = np.array(y_train)"
      ],
      "metadata": {
        "id": "v5o-4ZB77aEW"
      },
      "execution_count": 14,
      "outputs": []
    },
    {
      "cell_type": "code",
      "source": [
        "# Hyper-parameters\n",
        "num_epochs = 1000\n",
        "batch_size = 8\n",
        "learning_rate = 0.001\n",
        "input_size = len(X_train[0])\n",
        "hidden_size = 8\n",
        "output_size = len(tags)"
      ],
      "metadata": {
        "id": "yr7lPhJPNIx1"
      },
      "execution_count": 15,
      "outputs": []
    },
    {
      "cell_type": "code",
      "source": [
        "class ChatDataset(Dataset):\n",
        "    def __init__(self):\n",
        "        self.n_samples = len(X_train)\n",
        "        self.x_data = X_train\n",
        "        self.y_data = y_train\n",
        "\n",
        "    def __getitem__(self, index):\n",
        "        return self.x_data[index], self.y_data[index]\n",
        "\n",
        "    def __len__(self):\n",
        "        return self.n_samples"
      ],
      "metadata": {
        "id": "u6kLdl4vNRp-"
      },
      "execution_count": 16,
      "outputs": []
    },
    {
      "cell_type": "code",
      "source": [
        "dataset = ChatDataset()\n",
        "train_loader = DataLoader(dataset=dataset, batch_size=batch_size, shuffle=True, num_workers=0)\n"
      ],
      "metadata": {
        "id": "VHnjq-00NkFr"
      },
      "execution_count": 17,
      "outputs": []
    },
    {
      "cell_type": "markdown",
      "source": [
        "# Pytorch model and training\n"
      ],
      "metadata": {
        "id": "BxbUtsE8Ocv4"
      }
    },
    {
      "cell_type": "code",
      "source": [
        "import torch\n",
        "import torch.nn as nn"
      ],
      "metadata": {
        "id": "I1XwnxjjOLnX"
      },
      "execution_count": 18,
      "outputs": []
    },
    {
      "cell_type": "code",
      "source": [
        "# Define model\n",
        "class ChatModel(nn.Module):\n",
        "    def __init__(self, input_dim, hidden_dim, num_labels):\n",
        "        super(ChatModel, self).__init__()\n",
        "        self.layer1 = nn.Linear(input_dim, hidden_dim)\n",
        "        self.layer2 = nn.Linear(hidden_dim, hidden_dim)\n",
        "        self.layer3 = nn.Linear(hidden_dim, num_labels)\n",
        "        self.activation = nn.ReLU()\n",
        "\n",
        "    def forward(self, x):\n",
        "        x = self.layer1(x)\n",
        "        x = self.activation(x)\n",
        "        x = self.layer2(x)\n",
        "        x = self.activation(x)\n",
        "        x = self.layer3(x)\n",
        "        return x"
      ],
      "metadata": {
        "id": "YyacLRgaOuK6"
      },
      "execution_count": 19,
      "outputs": []
    },
    {
      "cell_type": "code",
      "source": [
        "device = torch.device('cuda' if torch.cuda.is_available() else 'cpu')\n",
        "model = ChatModel(input_dim=input_size, hidden_dim=hidden_size, num_labels=output_size).to(device)\n",
        "\n",
        "# Loss and optimizer\n",
        "loss_function = nn.CrossEntropyLoss()\n",
        "optimizer = torch.optim.Adam(model.parameters(), lr=learning_rate)\n",
        "\n",
        "# Train the model\n",
        "for epoch in range(num_epochs):\n",
        "    for (batch_words, batch_labels) in train_loader:\n",
        "        batch_words = batch_words.to(device)\n",
        "        batch_labels = batch_labels.to(dtype=torch.long).to(device)\n",
        "\n",
        "        # Forward pass\n",
        "        predictions = model(batch_words)\n",
        "        loss = loss_function(predictions, batch_labels)\n",
        "\n",
        "        # Backward and optimize\n",
        "        optimizer.zero_grad()\n",
        "        loss.backward()\n",
        "        optimizer.step()\n",
        "        if (epoch + 1) % 100 == 0:\n",
        "            print(f'Epoch [{epoch + 1}/{num_epochs}], Loss: {loss.item():.4f}')\n",
        "\n",
        "print(f'Final loss: {loss.item():.4f}')"
      ],
      "metadata": {
        "colab": {
          "base_uri": "https://localhost:8080/"
        },
        "id": "H3XSYX3vPKrI",
        "outputId": "2981b5a0-2e7d-46be-f832-9e66248cf328"
      },
      "execution_count": 20,
      "outputs": [
        {
          "output_type": "stream",
          "name": "stdout",
          "text": [
            "Epoch [100/1000], Loss: 1.0609\n",
            "Epoch [100/1000], Loss: 0.9443\n",
            "Epoch [100/1000], Loss: 0.4393\n",
            "Epoch [100/1000], Loss: 0.9156\n",
            "Epoch [100/1000], Loss: 0.9391\n",
            "Epoch [100/1000], Loss: 0.9562\n",
            "Epoch [200/1000], Loss: 0.0866\n",
            "Epoch [200/1000], Loss: 0.1252\n",
            "Epoch [200/1000], Loss: 0.0557\n",
            "Epoch [200/1000], Loss: 0.0309\n",
            "Epoch [200/1000], Loss: 0.0767\n",
            "Epoch [200/1000], Loss: 0.0855\n",
            "Epoch [300/1000], Loss: 0.0100\n",
            "Epoch [300/1000], Loss: 0.0164\n",
            "Epoch [300/1000], Loss: 0.0163\n",
            "Epoch [300/1000], Loss: 0.0137\n",
            "Epoch [300/1000], Loss: 0.0194\n",
            "Epoch [300/1000], Loss: 0.0122\n",
            "Epoch [400/1000], Loss: 0.0085\n",
            "Epoch [400/1000], Loss: 0.0056\n",
            "Epoch [400/1000], Loss: 0.0057\n",
            "Epoch [400/1000], Loss: 0.0060\n",
            "Epoch [400/1000], Loss: 0.0046\n",
            "Epoch [400/1000], Loss: 0.0025\n",
            "Epoch [500/1000], Loss: 0.0027\n",
            "Epoch [500/1000], Loss: 0.0035\n",
            "Epoch [500/1000], Loss: 0.0034\n",
            "Epoch [500/1000], Loss: 0.0021\n",
            "Epoch [500/1000], Loss: 0.0022\n",
            "Epoch [500/1000], Loss: 0.0027\n",
            "Epoch [600/1000], Loss: 0.0017\n",
            "Epoch [600/1000], Loss: 0.0014\n",
            "Epoch [600/1000], Loss: 0.0019\n",
            "Epoch [600/1000], Loss: 0.0015\n",
            "Epoch [600/1000], Loss: 0.0014\n",
            "Epoch [600/1000], Loss: 0.0013\n",
            "Epoch [700/1000], Loss: 0.0007\n",
            "Epoch [700/1000], Loss: 0.0008\n",
            "Epoch [700/1000], Loss: 0.0013\n",
            "Epoch [700/1000], Loss: 0.0007\n",
            "Epoch [700/1000], Loss: 0.0010\n",
            "Epoch [700/1000], Loss: 0.0010\n",
            "Epoch [800/1000], Loss: 0.0007\n",
            "Epoch [800/1000], Loss: 0.0005\n",
            "Epoch [800/1000], Loss: 0.0003\n",
            "Epoch [800/1000], Loss: 0.0007\n",
            "Epoch [800/1000], Loss: 0.0007\n",
            "Epoch [800/1000], Loss: 0.0005\n",
            "Epoch [900/1000], Loss: 0.0003\n",
            "Epoch [900/1000], Loss: 0.0006\n",
            "Epoch [900/1000], Loss: 0.0002\n",
            "Epoch [900/1000], Loss: 0.0003\n",
            "Epoch [900/1000], Loss: 0.0003\n",
            "Epoch [900/1000], Loss: 0.0005\n",
            "Epoch [1000/1000], Loss: 0.0003\n",
            "Epoch [1000/1000], Loss: 0.0002\n",
            "Epoch [1000/1000], Loss: 0.0001\n",
            "Epoch [1000/1000], Loss: 0.0003\n",
            "Epoch [1000/1000], Loss: 0.0003\n",
            "Epoch [1000/1000], Loss: 0.0004\n",
            "Final loss: 0.0004\n"
          ]
        }
      ]
    },
    {
      "cell_type": "markdown",
      "source": [
        "# Save and load the model"
      ],
      "metadata": {
        "id": "dmWbaRN-QRJ6"
      }
    },
    {
      "cell_type": "code",
      "source": [
        "# Save model data\n",
        "model_data = {\n",
        "    \"model_params\": model.state_dict(),\n",
        "    \"input_dim\": input_size,\n",
        "    \"hidden_dim\": hidden_size,\n",
        "    \"num_labels\": output_size,\n",
        "    \"word_list\": all_words,\n",
        "    \"label_tags\": tags\n",
        "}\n",
        "\n",
        "SAVE_PATH = \"model_data.pth\"\n",
        "torch.save(model_data, SAVE_PATH)\n",
        "print(f'Training complete. File saved to {SAVE_PATH}')"
      ],
      "metadata": {
        "colab": {
          "base_uri": "https://localhost:8080/"
        },
        "id": "nUboJSpfP_ig",
        "outputId": "cada5820-bfdc-44a4-ef28-3f3cde330863"
      },
      "execution_count": 21,
      "outputs": [
        {
          "output_type": "stream",
          "name": "stdout",
          "text": [
            "Training complete. File saved to model_data.pth\n"
          ]
        }
      ]
    },
    {
      "cell_type": "code",
      "source": [
        "import random\n",
        "import json\n",
        "\n",
        "import torch\n"
      ],
      "metadata": {
        "id": "ROT2z6VyQsQw"
      },
      "execution_count": 22,
      "outputs": []
    },
    {
      "cell_type": "code",
      "source": [
        "# Load the model\n",
        "import random\n",
        "import json\n",
        "\n",
        "model_data = torch.load(SAVE_PATH)\n",
        "\n",
        "input_dim = model_data[\"input_dim\"]\n",
        "hidden_dim = model_data[\"hidden_dim\"]\n",
        "num_labels = model_data[\"num_labels\"]\n",
        "word_list = model_data['word_list']\n",
        "label_tags = model_data['label_tags']\n",
        "model_params = model_data[\"model_params\"]\n",
        "\n",
        "model = ChatModel(input_dim, hidden_dim, num_labels).to(device)\n",
        "model.load_state_dict(model_params)\n",
        "model.eval()"
      ],
      "metadata": {
        "colab": {
          "base_uri": "https://localhost:8080/"
        },
        "id": "7kbpMiWJRD6H",
        "outputId": "ea9cc903-2448-420c-d5bd-95481586a7ad"
      },
      "execution_count": 23,
      "outputs": [
        {
          "output_type": "execute_result",
          "data": {
            "text/plain": [
              "ChatModel(\n",
              "  (layer1): Linear(in_features=99, out_features=8, bias=True)\n",
              "  (layer2): Linear(in_features=8, out_features=8, bias=True)\n",
              "  (layer3): Linear(in_features=8, out_features=11, bias=True)\n",
              "  (activation): ReLU()\n",
              ")"
            ]
          },
          "metadata": {},
          "execution_count": 23
        }
      ]
    },
    {
      "cell_type": "code",
      "source": [
        "bot_name = \"Imane\"\n",
        "print(\"Hi there! (type 'quit' to exit)\")\n",
        "while True:\n",
        "    user_input = input(\"User: \")\n",
        "    if user_input.lower() == \"quit\":\n",
        "        break\n",
        "\n",
        "    tokens = tokenize(user_input)\n",
        "    input_vector = bag_of_words(tokens, word_list)\n",
        "    input_vector = input_vector.reshape(1, input_vector.shape[0])\n",
        "    input_vector = torch.from_numpy(input_vector).to(device)\n",
        "\n",
        "    output = model(input_vector)\n",
        "    _, predicted_label = torch.max(output, dim=1)\n",
        "\n",
        "    tag = label_tags[predicted_label.item()]\n",
        "\n",
        "    probabilities = torch.softmax(output, dim=1)\n",
        "    probability = probabilities[0][predicted_label.item()]\n",
        "    if probability.item() > 0.75:\n",
        "        for intent in intents['intents']:\n",
        "            if tag == intent[\"tag\"]:\n",
        "                print(f\"{bot_name}: {random.choice(intent['responses'])}\")\n",
        "    else:\n",
        "        print(f\"{bot_name}: I did not get what you mean, can you reformulate?\")"
      ],
      "metadata": {
        "colab": {
          "base_uri": "https://localhost:8080/"
        },
        "id": "q8VGEsyTRrEx",
        "outputId": "c0427593-7ff4-4064-e775-5500c832ecf8"
      },
      "execution_count": 24,
      "outputs": [
        {
          "name": "stdout",
          "output_type": "stream",
          "text": [
            "Hi there! (type 'quit' to exit)\n",
            "User: hi\n",
            "Imane: Hi there! How can I assist you with your thoughts and feelings today?\n",
            "User: i am stressed\n",
            "Imane: I did not get what you mean, can you reformulate?\n",
            "User: i am anxious\n",
            "Imane: I'm here to listen. What’s been on your mind lately?\n",
            "User: i don't want to live anymore\n",
            "Imane: There are people who care and want to help you. Please reach out to a crisis support service or a mental health professional.\n",
            "User: and i am having problems in my relationship\n",
            "Imane: Relationships can be challenging. It might help to talk about what’s been happening and how it’s affecting you.\n",
            "User: What strategies can help me feel better?\n",
            "Imane: Practicing relaxation techniques and finding activities that you enjoy can also be beneficial.\n",
            "User: can you Help me stay positive\n",
            "Imane: Staying positive can be challenging, but setting small, achievable goals can help.\n",
            "User: Goodbye! Take care and remember, I'm here if you need to talk.\n",
            "Imane: It's important to set aside time for yourself. What are some things that help you relax?\n",
            "User: quit\n"
          ]
        }
      ]
    },
    {
      "cell_type": "code",
      "source": [],
      "metadata": {
        "id": "JuLjkVQcSSOo"
      },
      "execution_count": null,
      "outputs": []
    }
  ]
}